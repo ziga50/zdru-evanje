{
 "cells": [
  {
   "cell_type": "markdown",
   "metadata": {},
   "source": [
    "# Združevanje dveh tabel na podlagi identifikatorja\n",
    "\n",
    "* V excelovi datoteki (Države sveta) se poleg imena držav nahaja tudi stolpec ID_ISO_N3 ki vsebuje identifikacijske številke za vsako državo\n",
    "\n",
    "* na podlagi te identifikacijske številke lahko združujemo vrednosti v dveh tabelah\n",
    "\n",
    "* po združitvi se vrednosti pripišejo na pravo vrstico"
   ]
  },
  {
   "cell_type": "markdown",
   "metadata": {},
   "source": [
    "### instaliramo Python knjižnice"
   ]
  },
  {
   "cell_type": "code",
   "execution_count": null,
   "metadata": {},
   "outputs": [],
   "source": [
    "pip install xlrd>=2.0.1\n",
    "pip install pandas "
   ]
  },
  {
   "cell_type": "markdown",
   "metadata": {},
   "source": [
    "### uvozimo knjižnico, ki jo potrebujemo za izdelavo skripta "
   ]
  },
  {
   "cell_type": "code",
   "execution_count": 2,
   "metadata": {},
   "outputs": [],
   "source": [
    "import pandas as pd"
   ]
  },
  {
   "cell_type": "markdown",
   "metadata": {},
   "source": [
    "### odpremo originalno tabelo in tabelo Države sveta"
   ]
  },
  {
   "cell_type": "code",
   "execution_count": null,
   "metadata": {},
   "outputs": [],
   "source": [
    "og_tabela = pd.read_excel(r\"C:\\Users\\zigao\\Downloads\\FAOSTAT_data_en_10-27-2024 (1).xls\") ## VSTAVI SVOJO POT DO ORIGINALNE DATOTEKE\n",
    "\n",
    "nmg_tabela = pd.read_excel(r\"C:\\Users\\zigao\\Downloads\\Države sveta - tabela za vnos novih podatkov.xlsx\", sheet_name = \"3_združevanje tabel\") ##VSTAVI SVOJO POT DO DATOTEKE DRŽAVE SVETA\n",
    "\n",
    "\n",
    "'''\n",
    "\n",
    "POMEMBNO: v primeru da gre za csv datoteko spremenimo pd.read_excel v pd.read_csv\n",
    "\n",
    "'''\n"
   ]
  },
  {
   "cell_type": "markdown",
   "metadata": {},
   "source": [
    "### združimo dve tabeli glede na skupni identifikator"
   ]
  },
  {
   "cell_type": "code",
   "execution_count": null,
   "metadata": {},
   "outputs": [],
   "source": [
    "zdruzeno = pd.merge(nmg_tabela, og_tabela, left_on='ID_ISO_N3', right_on='Area Code (M49)', how='outer')\n",
    "\n",
    "'''\n",
    "POMEMBNO: Identifikator \"desne\" oz. originalne tabele se v mojem primeru nahaja v stolpcu imenovanem Area Code (M49).\n",
    "V originalni tabeli poiščemo stolpec kjer se nahaja identifikator in v prvi vrstici spremenimo argument right_on. Namesto Area Code (M49) zapišemo ime našega stolpca\n",
    "'''\n",
    "\n",
    "zdruzeno.head(200) ## izpišemo prvih 200 vrstic naše združene tabele"
   ]
  },
  {
   "cell_type": "markdown",
   "metadata": {},
   "source": [
    "### tabelo izvozimo v csv datoteko"
   ]
  },
  {
   "cell_type": "code",
   "execution_count": null,
   "metadata": {},
   "outputs": [],
   "source": [
    "zdruzeno.to_csv(r\"C:\\Users\\zigao\\Downloads\\nmg_zdruzena_tabela.csv\", sep = \",\", columns=[\"IME_ANG\", \"Value\", \"ID_ISO_N3\"])\n",
    "\n",
    "\n",
    "'''\n",
    "\n",
    "POMEMBNO: Spremenimo pot kjer bomo shranili našo združeno tabelo. Določimo tudi neko smiselno ime kot je npr. nmg_zdruzena_tabela.csv\n",
    "\n",
    "Datoteka vsebuje tri stolpce: Ime države, Identifikator (ID_ISO_N3) ter stolpec z vrednostmi, ki je v mojem primeru poimenovan kot Values\n",
    "Ime stolpca se spremeni v ime spremenljivke kot je poimenovano v originalni tabeli\n",
    "\n",
    "\n",
    "'''"
   ]
  },
  {
   "cell_type": "markdown",
   "metadata": {},
   "source": [
    "##\n",
    "\n",
    "POMEMBNO: Rezultat je csv tabela s tremi stolpci. To tabelo moramo še razvrstici po abecedi ter vrsticam brez podatka pripisati vrednost -99\n",
    "Kako se to naredi, glej posnetek ki je objavljen na e-učilnici\n",
    "\n",
    "Na koncu urejeno tabelo kopiramo in jo prilimamo v Excelovo datoteko Države sveta na list 3_združevanje tabel\n",
    "\n"
   ]
  }
 ],
 "metadata": {
  "kernelspec": {
   "display_name": "base",
   "language": "python",
   "name": "python3"
  },
  "language_info": {
   "codemirror_mode": {
    "name": "ipython",
    "version": 3
   },
   "file_extension": ".py",
   "mimetype": "text/x-python",
   "name": "python",
   "nbconvert_exporter": "python",
   "pygments_lexer": "ipython3",
   "version": "3.12.4"
  }
 },
 "nbformat": 4,
 "nbformat_minor": 2
}
